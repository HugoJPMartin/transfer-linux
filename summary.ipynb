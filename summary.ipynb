{
 "cells": [
  {
   "cell_type": "markdown",
   "metadata": {},
   "source": [
    "# Linux Transfer Learning notebook - Summary"
   ]
  },
  {
   "cell_type": "code",
   "execution_count": 1,
   "metadata": {},
   "outputs": [],
   "source": [
    "size_columns = [\"GZIP-bzImage\", \"GZIP-vmlinux\", \"GZIP\", \"BZIP2-bzImage\", \"vmlinux\", \n",
    "              \"BZIP2-vmlinux\", \"BZIP2\", \"LZMA-bzImage\", \"LZMA-vmlinux\", \"LZMA\", \"XZ-bzImage\", \"XZ-vmlinux\", \"XZ\", \n",
    "              \"LZO-bzImage\", \"LZO-vmlinux\", \"LZO\", \"LZ4-bzImage\", \"LZ4-vmlinux\", \"LZ4\"]"
   ]
  },
  {
   "cell_type": "markdown",
   "metadata": {},
   "source": [
    "## Training model on 4.13 data"
   ]
  },
  {
   "cell_type": "code",
   "execution_count": 2,
   "metadata": {},
   "outputs": [
    {
     "name": "stdout",
     "output_type": "stream",
     "text": [
      "MAPE for 4.13 :  5.007147736246703\n"
     ]
    }
   ],
   "source": [
    "import pandas as pd\n",
    "from sklearn import ensemble, tree\n",
    "from sklearn.model_selection import train_test_split\n",
    "\n",
    "df_413 = pd.read_pickle(\"datasets/dataset_413.pkl\")\n",
    "\n",
    "train_size = 0.9\n",
    "X_train, X_test, y_train, y_test = train_test_split(df_413.drop(columns=size_columns+[\"cid\"], errors=\"ignore\"), df_413[\"vmlinux\"], train_size=train_size)\n",
    "\n",
    "reg = ensemble.GradientBoostingRegressor(n_estimators=100, max_depth=12, min_samples_split=100)\n",
    "reg.fit(X_train, y_train)\n",
    "\n",
    "y_pred = reg.predict(X_test)\n",
    "\n",
    "dfErrorsFold = pd.DataFrame({\"% error\":((y_pred - y_test)/y_test).abs()*100})\n",
    "error_413 = dfErrorsFold[\"% error\"].mean()\n",
    "print(\"MAPE for 4.13 : \", error_413)"
   ]
  },
  {
   "cell_type": "markdown",
   "metadata": {},
   "source": [
    "## Importing all datasets"
   ]
  },
  {
   "cell_type": "code",
   "execution_count": 3,
   "metadata": {},
   "outputs": [],
   "source": [
    "df_415 = pd.read_pickle(\"datasets/dataset_415.pkl\")\n",
    "df_420 = pd.read_pickle(\"datasets/dataset_420.pkl\")\n",
    "df_500 = pd.read_pickle(\"datasets/dataset_500.pkl\")\n",
    "df_507 = pd.read_pickle(\"datasets/dataset_507.pkl\")"
   ]
  },
  {
   "cell_type": "markdown",
   "metadata": {},
   "source": [
    "## Creating all training and test sets"
   ]
  },
  {
   "cell_type": "code",
   "execution_count": 4,
   "metadata": {},
   "outputs": [],
   "source": [
    "columns_413 = set(df_413.columns.values)\n",
    "columns_415 = set(df_415.columns.values)\n",
    "columns_420 = set(df_420.columns.values)\n",
    "columns_500 = set(df_500.columns.values)\n",
    "columns_507 = set(df_507.columns.values)"
   ]
  },
  {
   "cell_type": "code",
   "execution_count": 5,
   "metadata": {},
   "outputs": [],
   "source": [
    "for c in columns_413.difference(columns_415):\n",
    "    df_415 = df_415.assign(**{c:1})\n",
    "\n",
    "for c in columns_413.difference(columns_420):\n",
    "    df_420 = df_420.assign(**{c:1})\n",
    "\n",
    "for c in columns_413.difference(columns_500):\n",
    "    df_500 = df_500.assign(**{c:1})\n",
    "\n",
    "for c in columns_413.difference(columns_507):\n",
    "    df_507 = df_507.assign(**{c:1})"
   ]
  },
  {
   "cell_type": "code",
   "execution_count": 6,
   "metadata": {},
   "outputs": [],
   "source": [
    "train_size = 5000\n",
    "\n",
    "X_train_415, X_test_415, y_train_415, y_test_415 = train_test_split(df_415.drop(columns=size_columns+[\"cid\"], errors=\"ignore\"), df_415[\"vmlinux\"], train_size=train_size)\n",
    "X_train_420, X_test_420, y_train_420, y_test_420 = train_test_split(df_420.drop(columns=size_columns+[\"cid\"], errors=\"ignore\"), df_420[\"vmlinux\"], train_size=train_size)\n",
    "X_train_500, X_test_500, y_train_500, y_test_500 = train_test_split(df_500.drop(columns=size_columns+[\"cid\"], errors=\"ignore\"), df_500[\"vmlinux\"], train_size=train_size)\n",
    "X_train_507, X_test_507, y_train_507, y_test_507 = train_test_split(df_507.drop(columns=size_columns+[\"cid\"], errors=\"ignore\"), df_507[\"vmlinux\"], train_size=train_size)"
   ]
  },
  {
   "cell_type": "markdown",
   "metadata": {},
   "source": [
    "## Model reuse"
   ]
  },
  {
   "cell_type": "code",
   "execution_count": 7,
   "metadata": {},
   "outputs": [
    {
     "name": "stdout",
     "output_type": "stream",
     "text": [
      "MAPE for 4.15 :  17.679421157044988\n"
     ]
    }
   ],
   "source": [
    "y_pred = reg.predict(X_test_415[X_train.columns])\n",
    "\n",
    "dfErrorsFold = pd.DataFrame({\"% error\":((y_pred - y_test_415)/y_test_415).abs()*100})\n",
    "error_415 = dfErrorsFold[\"% error\"].mean()\n",
    "print(\"MAPE for 4.15 : \", error_415)"
   ]
  },
  {
   "cell_type": "code",
   "execution_count": 8,
   "metadata": {},
   "outputs": [
    {
     "name": "stdout",
     "output_type": "stream",
     "text": [
      "MAPE for 4.20 :  19.04819421480541\n",
      "MAPE for 5.0 :  19.383366075624473\n",
      "MAPE for 5.7 :  32.48902869261508\n"
     ]
    }
   ],
   "source": [
    "y_pred = reg.predict(X_test_420[X_train.columns])\n",
    "\n",
    "dfErrorsFold = pd.DataFrame({\"% error\":((y_pred - y_test_420)/y_test_420).abs()*100})\n",
    "error_420 = dfErrorsFold[\"% error\"].mean()\n",
    "print(\"MAPE for 4.20 : \", error_420)\n",
    "\n",
    "y_pred = reg.predict(X_test_500[X_train.columns])\n",
    "\n",
    "dfErrorsFold = pd.DataFrame({\"% error\":((y_pred - y_test_500)/y_test_500).abs()*100})\n",
    "error_500 = dfErrorsFold[\"% error\"].mean()\n",
    "print(\"MAPE for 5.0 : \", error_500)\n",
    "\n",
    "y_pred = reg.predict(X_test_507[X_train.columns])\n",
    "\n",
    "dfErrorsFold = pd.DataFrame({\"% error\":((y_pred - y_test_507)/y_test_507).abs()*100})\n",
    "error_507 = dfErrorsFold[\"% error\"].mean()\n",
    "print(\"MAPE for 5.7 : \", error_507)"
   ]
  },
  {
   "cell_type": "markdown",
   "metadata": {},
   "source": [
    "## Training from scratch"
   ]
  },
  {
   "cell_type": "code",
   "execution_count": 9,
   "metadata": {},
   "outputs": [
    {
     "name": "stdout",
     "output_type": "stream",
     "text": [
      "MAPE for 4.15 scratch :  12.252710542790119\n"
     ]
    }
   ],
   "source": [
    "reg_415 = ensemble.GradientBoostingRegressor(n_estimators=100, max_depth=12, min_samples_split=100)\n",
    "reg_415.fit(X_train_415, y_train_415)\n",
    "\n",
    "y_pred = reg_415.predict(X_test_415)\n",
    "\n",
    "dfErrorsFold = pd.DataFrame({\"% error\":((y_pred - y_test_415)/y_test_415).abs()*100})\n",
    "error_415_scratch = dfErrorsFold[\"% error\"].mean()\n",
    "print(\"MAPE for 4.15 scratch : \", error_415_scratch)"
   ]
  },
  {
   "cell_type": "code",
   "execution_count": 11,
   "metadata": {},
   "outputs": [
    {
     "name": "stdout",
     "output_type": "stream",
     "text": [
      "MAPE for 4.20 scratch :  11.771949694977913\n",
      "MAPE for 5.0 scratch :  11.704309483270574\n",
      "MAPE for 5.7 scratch :  12.373115863413082\n"
     ]
    }
   ],
   "source": [
    "reg_420 = ensemble.GradientBoostingRegressor(n_estimators=100, max_depth=12, min_samples_split=100)\n",
    "reg_420.fit(X_train_420, y_train_420)\n",
    "\n",
    "y_pred = reg_420.predict(X_test_420)\n",
    "\n",
    "dfErrorsFold = pd.DataFrame({\"% error\":((y_pred - y_test_420)/y_test_420).abs()*100})\n",
    "error_420_scratch = dfErrorsFold[\"% error\"].mean()\n",
    "print(\"MAPE for 4.20 scratch : \", error_420_scratch)\n",
    "\n",
    "\n",
    "reg_500 = ensemble.GradientBoostingRegressor(n_estimators=100, max_depth=12, min_samples_split=100)\n",
    "reg_500.fit(X_train_500, y_train_500)\n",
    "\n",
    "y_pred = reg_500.predict(X_test_500)\n",
    "\n",
    "dfErrorsFold = pd.DataFrame({\"% error\":((y_pred - y_test_500)/y_test_500).abs()*100})\n",
    "error_500_scratch = dfErrorsFold[\"% error\"].mean()\n",
    "print(\"MAPE for 5.0 scratch : \", error_500_scratch)\n",
    "\n",
    "\n",
    "reg_507 = ensemble.GradientBoostingRegressor(n_estimators=100, max_depth=12, min_samples_split=100)\n",
    "reg_507.fit(X_train_507, y_train_507)\n",
    "\n",
    "y_pred = reg_507.predict(X_test_507)\n",
    "\n",
    "dfErrorsFold = pd.DataFrame({\"% error\":((y_pred - y_test_507)/y_test_507).abs()*100})\n",
    "error_507_scratch = dfErrorsFold[\"% error\"].mean()\n",
    "print(\"MAPE for 5.7 scratch : \", error_507_scratch)"
   ]
  },
  {
   "cell_type": "code",
   "execution_count": 14,
   "metadata": {},
   "outputs": [],
   "source": [
    "X_train_415[\"estimated_vmlinux\"] = reg.predict(X_train_415[X_train.columns])\n",
    "X_train_420[\"estimated_vmlinux\"] = reg.predict(X_train_420[X_train.columns])\n",
    "X_train_500[\"estimated_vmlinux\"] = reg.predict(X_train_500[X_train.columns])\n",
    "X_train_507[\"estimated_vmlinux\"] = reg.predict(X_train_507[X_train.columns])\n",
    "\n",
    "X_test_415[\"estimated_vmlinux\"] = reg.predict(X_test_415[X_train.columns])\n",
    "X_test_420[\"estimated_vmlinux\"] = reg.predict(X_test_420[X_train.columns])\n",
    "X_test_500[\"estimated_vmlinux\"] = reg.predict(X_test_500[X_train.columns])\n",
    "X_test_507[\"estimated_vmlinux\"] = reg.predict(X_test_507[X_train.columns])"
   ]
  },
  {
   "cell_type": "markdown",
   "metadata": {},
   "source": [
    "## Model shifting"
   ]
  },
  {
   "cell_type": "code",
   "execution_count": 18,
   "metadata": {},
   "outputs": [
    {
     "name": "stdout",
     "output_type": "stream",
     "text": [
      "MAPE for 4.15 shifting :  6.311641375430209\n"
     ]
    }
   ],
   "source": [
    "\n",
    "shifting_gbt_415 = ensemble.GradientBoostingRegressor(n_estimators=200, max_depth=6, min_samples_split=50)\n",
    "shifting_gbt_415.fit(X_train_415, y_train_415)\n",
    "\n",
    "y_pred = shifting_gbt_415.predict(X_test_415)\n",
    "\n",
    "dfErrorsFold = pd.DataFrame({\"% error\":((y_pred - y_test_415)/y_test_415).abs()*100})\n",
    "error_415_shifting = dfErrorsFold[\"% error\"].mean()\n",
    "print(\"MAPE for 4.15 shifting : \", error_415_shifting)"
   ]
  },
  {
   "cell_type": "code",
   "execution_count": 20,
   "metadata": {},
   "outputs": [
    {
     "name": "stdout",
     "output_type": "stream",
     "text": [
      "MAPE for 4.20 shifting :  6.473663536704875\n",
      "MAPE for 5.0 shifting :  6.779563709785829\n",
      "MAPE for 5.7 shifting :  8.151901990142788\n"
     ]
    }
   ],
   "source": [
    "shifting_gbt_420 = ensemble.GradientBoostingRegressor(n_estimators=200, max_depth=6, min_samples_split=50)\n",
    "shifting_gbt_420.fit(X_train_420, y_train_420)\n",
    "\n",
    "y_pred = shifting_gbt_420.predict(X_test_420)\n",
    "\n",
    "dfErrorsFold = pd.DataFrame({\"% error\":((y_pred - y_test_420)/y_test_420).abs()*100})\n",
    "error_420_shifting = dfErrorsFold[\"% error\"].mean()\n",
    "print(\"MAPE for 4.20 shifting : \", error_420_shifting)\n",
    "\n",
    "\n",
    "shifting_gbt_500 = ensemble.GradientBoostingRegressor(n_estimators=200, max_depth=6, min_samples_split=50)\n",
    "shifting_gbt_500.fit(X_train_500, y_train_500)\n",
    "\n",
    "y_pred = shifting_gbt_500.predict(X_test_500)\n",
    "\n",
    "dfErrorsFold = pd.DataFrame({\"% error\":((y_pred - y_test_500)/y_test_500).abs()*100})\n",
    "error_500_shifting = dfErrorsFold[\"% error\"].mean()\n",
    "print(\"MAPE for 5.0 shifting : \", error_500_shifting)\n",
    "\n",
    "\n",
    "shifting_gbt_507 = ensemble.GradientBoostingRegressor(n_estimators=200, max_depth=6, min_samples_split=50)\n",
    "shifting_gbt_507.fit(X_train_507, y_train_507)\n",
    "\n",
    "y_pred = shifting_gbt_507.predict(X_test_507)\n",
    "\n",
    "dfErrorsFold = pd.DataFrame({\"% error\":((y_pred - y_test_507)/y_test_507).abs()*100})\n",
    "error_507_shifting = dfErrorsFold[\"% error\"].mean()\n",
    "print(\"MAPE for 5.7 shifting : \", error_507_shifting)\n",
    "\n"
   ]
  },
  {
   "cell_type": "markdown",
   "metadata": {},
   "source": [
    "## Plotting"
   ]
  },
  {
   "cell_type": "code",
   "execution_count": 23,
   "metadata": {},
   "outputs": [],
   "source": [
    "df = pd.DataFrame(\n",
    "{\n",
    "    \"4.13\":{\n",
    "        \"reuse\":error_413\n",
    "    },\n",
    "    \"4.15\":{\n",
    "        \"reuse\":error_415,\n",
    "        \"scratch\":error_415_scratch,\n",
    "        \"model_shifting\":error_415_shifting\n",
    "    },\n",
    "    \"4.20\":{\n",
    "        \"reuse\":error_420,\n",
    "        \"scratch\":error_420_scratch,\n",
    "        \"model_shifting\":error_420_shifting\n",
    "    },\n",
    "    \"5.0\":{\n",
    "        \"reuse\":error_500,\n",
    "        \"scratch\":error_500_scratch,\n",
    "        \"model_shifting\":error_500_shifting\n",
    "    },\n",
    "    \"5.7\":{\n",
    "        \"reuse\":error_507,\n",
    "        \"scratch\":error_507_scratch,\n",
    "        \"model_shifting\":error_507_shifting\n",
    "    }\n",
    "}).T"
   ]
  },
  {
   "cell_type": "code",
   "execution_count": 24,
   "metadata": {},
   "outputs": [
    {
     "data": {
      "text/html": [
       "<div>\n",
       "<style scoped>\n",
       "    .dataframe tbody tr th:only-of-type {\n",
       "        vertical-align: middle;\n",
       "    }\n",
       "\n",
       "    .dataframe tbody tr th {\n",
       "        vertical-align: top;\n",
       "    }\n",
       "\n",
       "    .dataframe thead th {\n",
       "        text-align: right;\n",
       "    }\n",
       "</style>\n",
       "<table border=\"1\" class=\"dataframe\">\n",
       "  <thead>\n",
       "    <tr style=\"text-align: right;\">\n",
       "      <th></th>\n",
       "      <th>reuse</th>\n",
       "      <th>scratch</th>\n",
       "      <th>model_shifting</th>\n",
       "    </tr>\n",
       "  </thead>\n",
       "  <tbody>\n",
       "    <tr>\n",
       "      <th>4.13</th>\n",
       "      <td>5.007148</td>\n",
       "      <td>NaN</td>\n",
       "      <td>NaN</td>\n",
       "    </tr>\n",
       "    <tr>\n",
       "      <th>4.15</th>\n",
       "      <td>17.679421</td>\n",
       "      <td>12.252711</td>\n",
       "      <td>6.311641</td>\n",
       "    </tr>\n",
       "    <tr>\n",
       "      <th>4.20</th>\n",
       "      <td>19.048194</td>\n",
       "      <td>11.771950</td>\n",
       "      <td>6.473664</td>\n",
       "    </tr>\n",
       "    <tr>\n",
       "      <th>5.0</th>\n",
       "      <td>19.383366</td>\n",
       "      <td>11.704309</td>\n",
       "      <td>6.779564</td>\n",
       "    </tr>\n",
       "    <tr>\n",
       "      <th>5.7</th>\n",
       "      <td>32.489029</td>\n",
       "      <td>12.373116</td>\n",
       "      <td>8.151902</td>\n",
       "    </tr>\n",
       "  </tbody>\n",
       "</table>\n",
       "</div>"
      ],
      "text/plain": [
       "          reuse    scratch  model_shifting\n",
       "4.13   5.007148        NaN             NaN\n",
       "4.15  17.679421  12.252711        6.311641\n",
       "4.20  19.048194  11.771950        6.473664\n",
       "5.0   19.383366  11.704309        6.779564\n",
       "5.7   32.489029  12.373116        8.151902"
      ]
     },
     "execution_count": 24,
     "metadata": {},
     "output_type": "execute_result"
    }
   ],
   "source": [
    "df"
   ]
  },
  {
   "cell_type": "code",
   "execution_count": 29,
   "metadata": {},
   "outputs": [
    {
     "data": {
      "text/plain": [
       "Text(0.5, 1.0, 'Error variation on different versions')"
      ]
     },
     "execution_count": 29,
     "metadata": {},
     "output_type": "execute_result"
    },
    {
     "data": {
      "image/png": "[encoded data removed]",
      "text/plain": [
       "<Figure size 864x576 with 1 Axes>"
      ]
     },
     "metadata": {
      "needs_background": "light"
     },
     "output_type": "display_data"
    }
   ],
   "source": [
    "ax = df.plot(figsize=(12,8), ylim=(0, 50))\n",
    "ax.set_ylabel(\"MAPE (error percentage)\")\n",
    "ax.set_xlabel(\"Linux Kernel Version\")\n",
    "ax.set_title(\"Error variation on different versions\")\n"
   ]
  },
  {
   "cell_type": "markdown",
   "metadata": {},
   "source": [
    "The blue line is the error of the 4.13 model on the different versions. Orange line is the error rate for models build from scratch on 5000 examples of the studied version. Green line is the shifting of the 4.13 model using 5000 examples from the studied version."
   ]
  },
  {
   "cell_type": "code",
   "execution_count": null,
   "metadata": {},
   "outputs": [],
   "source": []
  }
 ],
 "metadata": {
  "kernelspec": {
   "display_name": "Python 3.8",
   "language": "python",
   "name": "python38"
  },
  "language_info": {
   "codemirror_mode": {
    "name": "ipython",
    "version": 3
   },
   "file_extension": ".py",
   "mimetype": "text/x-python",
   "name": "python",
   "nbconvert_exporter": "python",
   "pygments_lexer": "ipython3",
   "version": "3.8.2"
  }
 },
 "nbformat": 4,
 "nbformat_minor": 4
}
