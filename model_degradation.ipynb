{
 "cells": [
  {
   "cell_type": "markdown",
   "metadata": {},
   "source": [
    "# Linux Transfer Learning notebook - Model Degradation"
   ]
  },
  {
   "cell_type": "markdown",
   "metadata": {},
   "source": [
    "This notebook aims to show the degradation of accuracy of a model trained on a single version over future versions."
   ]
  },
  {
   "cell_type": "markdown",
   "metadata": {},
   "source": [
    "## Creating a  model on 4.13 data"
   ]
  },
  {
   "cell_type": "code",
   "execution_count": 1,
   "metadata": {},
   "outputs": [],
   "source": [
    "import pandas as pd\n",
    "df_413 = pd.read_pickle(\"datasets/dataset_413.pkl\")"
   ]
  },
  {
   "cell_type": "code",
   "execution_count": 2,
   "metadata": {},
   "outputs": [],
   "source": [
    "size_columns = [\"GZIP-bzImage\", \"GZIP-vmlinux\", \"GZIP\", \"BZIP2-bzImage\", \"vmlinux\", \n",
    "              \"BZIP2-vmlinux\", \"BZIP2\", \"LZMA-bzImage\", \"LZMA-vmlinux\", \"LZMA\", \"XZ-bzImage\", \"XZ-vmlinux\", \"XZ\", \n",
    "              \"LZO-bzImage\", \"LZO-vmlinux\", \"LZO\", \"LZ4-bzImage\", \"LZ4-vmlinux\", \"LZ4\"]"
   ]
  },
  {
   "cell_type": "code",
   "execution_count": 3,
   "metadata": {},
   "outputs": [],
   "source": [
    "from sklearn import ensemble, tree\n",
    "from sklearn.model_selection import train_test_split\n",
    "\n",
    "train_size = 0.9\n",
    "X_train, X_test, y_train, y_test = train_test_split(df_413.drop(columns=size_columns+[\"cid\"], errors=\"ignore\"), df_413[\"vmlinux\"], train_size=train_size)"
   ]
  },
  {
   "cell_type": "code",
   "execution_count": null,
   "metadata": {},
   "outputs": [],
   "source": [
    "reg = ensemble.GradientBoostingRegressor(n_estimators=100, max_depth=12, min_samples_split=100)\n",
    "reg.fit(X_train, y_train)"
   ]
  },
  {
   "cell_type": "code",
   "execution_count": 19,
   "metadata": {},
   "outputs": [
    {
     "name": "stdout",
     "output_type": "stream",
     "text": [
      "MAPE for 4.13 :  4.831610936368557\n"
     ]
    }
   ],
   "source": [
    "y_pred = reg.predict(X_test)\n",
    "\n",
    "dfErrorsFold = pd.DataFrame({\"% error\":((y_pred - y_test)/y_test).abs()*100})\n",
    "error_413 = dfErrorsFold[\"% error\"].mean()\n",
    "print(\"MAPE for 4.13 : \", error_413)"
   ]
  },
  {
   "cell_type": "markdown",
   "metadata": {},
   "source": [
    "## Measuring accuracy for future version"
   ]
  },
  {
   "cell_type": "markdown",
   "metadata": {},
   "source": [
    "### 4.15"
   ]
  },
  {
   "cell_type": "code",
   "execution_count": 5,
   "metadata": {},
   "outputs": [
    {
     "name": "stdout",
     "output_type": "stream",
     "text": [
      "Number of features in 4.13 dataset :  9488\n",
      "Number of features in 4.15 dataset :  9445\n",
      "Number of features common to both datasets :  9146\n",
      "Number of features that disappear in 4.15 :  342\n",
      "Number of features that appear in 4.15 :  299\n"
     ]
    }
   ],
   "source": [
    "df_415 = pd.read_pickle(\"datasets/dataset_415.pkl\")\n",
    "\n",
    "columns_413 = set(df_413.columns.values)\n",
    "columns_415 = set(df_415.columns.values)\n",
    "\n",
    "print(\"Number of features in 4.13 dataset : \", len(columns_413))\n",
    "print(\"Number of features in 4.15 dataset : \", len(columns_415))\n",
    "print(\"Number of features common to both datasets : \", len(columns_413.intersection(columns_415)))\n",
    "\n",
    "print(\"Number of features that disappear in 4.15 : \", len(columns_413.difference(columns_415)))\n",
    "print(\"Number of features that appear in 4.15 : \", len(columns_415.difference(columns_413)))"
   ]
  },
  {
   "cell_type": "code",
   "execution_count": 6,
   "metadata": {},
   "outputs": [],
   "source": [
    "df_415_reduced = df_415[columns_413.intersection(columns_415)]\n",
    "\n",
    "for c in columns_413.difference(columns_415):\n",
    "    df_415_reduced = df_415_reduced.assign(**{c:1})\n",
    "    \n",
    "df_415_reduced = df_415_reduced[df_413.columns]\n",
    "\n",
    "X_test_415 = df_415_reduced.drop(columns=size_columns+[\"cid\"], errors=\"ignore\")\n",
    "y_test_415 = df_415_reduced[\"vmlinux\"]"
   ]
  },
  {
   "cell_type": "code",
   "execution_count": 11,
   "metadata": {},
   "outputs": [
    {
     "name": "stdout",
     "output_type": "stream",
     "text": [
      "MAPE for 4.15 :  20.014497458885717\n"
     ]
    }
   ],
   "source": [
    "y_pred = reg.predict(X_test_415)\n",
    "\n",
    "dfErrorsFold = pd.DataFrame({\"% error\":((y_pred - y_test_415)/y_test_415).abs()*100})\n",
    "error_415 = dfErrorsFold[\"% error\"].mean()\n",
    "print(\"MAPE for 4.15 : \", error_415)"
   ]
  },
  {
   "cell_type": "markdown",
   "metadata": {},
   "source": [
    "### 4.20"
   ]
  },
  {
   "cell_type": "code",
   "execution_count": 48,
   "metadata": {},
   "outputs": [
    {
     "name": "stdout",
     "output_type": "stream",
     "text": [
      "Number of features in 4.13 dataset :  9488\n",
      "Number of features in 4.20 dataset :  10209\n",
      "Number of features common to both datasets :  9020\n",
      "Number of features that disappear in 4.20 :  468\n",
      "Number of features that appear in 4.20 :  1189\n"
     ]
    }
   ],
   "source": [
    "df_420 = pd.read_pickle(\"datasets/dataset_420.pkl\")\n",
    "\n",
    "columns_420 = set(df_420.columns.values)\n",
    "\n",
    "print(\"Number of features in 4.13 dataset : \", len(columns_413))\n",
    "print(\"Number of features in 4.20 dataset : \", len(columns_420))\n",
    "print(\"Number of features common to both datasets : \", len(columns_413.intersection(columns_420)))\n",
    "\n",
    "print(\"Number of features that disappear in 4.20 : \", len(columns_413.difference(columns_420)))\n",
    "print(\"Number of features that appear in 4.20 : \", len(columns_420.difference(columns_413)))"
   ]
  },
  {
   "cell_type": "code",
   "execution_count": 49,
   "metadata": {},
   "outputs": [],
   "source": [
    "df_420_reduced = df_420[columns_413.intersection(columns_420)]\n",
    "\n",
    "for c in columns_413.difference(columns_420):\n",
    "    df_420_reduced = df_420_reduced.assign(**{c:1})\n",
    "    \n",
    "df_420_reduced = df_420_reduced[df_413.columns]\n",
    "\n",
    "X_test_420 = df_420_reduced.drop(columns=size_columns+[\"cid\"], errors=\"ignore\")\n",
    "y_test_420 = df_420_reduced[\"vmlinux\"]"
   ]
  },
  {
   "cell_type": "code",
   "execution_count": 50,
   "metadata": {},
   "outputs": [
    {
     "name": "stdout",
     "output_type": "stream",
     "text": [
      "MAPE for 4.20 :  20.716368246070623\n"
     ]
    }
   ],
   "source": [
    "y_pred = reg.predict(X_test_420)\n",
    "\n",
    "dfErrorsFold = pd.DataFrame({\"% error\":((y_pred - y_test_420)/y_test_420).abs()*100})\n",
    "error_420 = dfErrorsFold[\"% error\"].mean()\n",
    "print(\"MAPE for 4.20 : \", error_420)"
   ]
  },
  {
   "cell_type": "markdown",
   "metadata": {},
   "source": [
    "### 5.0"
   ]
  },
  {
   "cell_type": "code",
   "execution_count": 13,
   "metadata": {},
   "outputs": [
    {
     "name": "stdout",
     "output_type": "stream",
     "text": [
      "Number of features in 4.13 dataset :  9488\n",
      "Number of features in 5.0 dataset :  10313\n",
      "Number of features common to both datasets :  8994\n",
      "Number of features that disappear in 5.0 :  494\n",
      "Number of features that appear in 5.0 :  1319\n"
     ]
    }
   ],
   "source": [
    "df_500 = pd.read_pickle(\"datasets/dataset_500.pkl\")\n",
    "\n",
    "columns_500 = set(df_500.columns.values)\n",
    "\n",
    "print(\"Number of features in 4.13 dataset : \", len(columns_413))\n",
    "print(\"Number of features in 5.0 dataset : \", len(columns_500))\n",
    "print(\"Number of features common to both datasets : \", len(columns_413.intersection(columns_500)))\n",
    "\n",
    "print(\"Number of features that disappear in 5.0 : \", len(columns_413.difference(columns_500)))\n",
    "print(\"Number of features that appear in 5.0 : \", len(columns_500.difference(columns_413)))"
   ]
  },
  {
   "cell_type": "code",
   "execution_count": 14,
   "metadata": {},
   "outputs": [],
   "source": [
    "df_500_reduced = df_500[columns_413.intersection(columns_500)]\n",
    "\n",
    "for c in columns_413.difference(columns_500):\n",
    "    df_500_reduced = df_500_reduced.assign(**{c:1})\n",
    "    \n",
    "df_500_reduced = df_500_reduced[df_413.columns]\n",
    "\n",
    "X_test_500 = df_500_reduced.drop(columns=size_columns+[\"cid\"], errors=\"ignore\")\n",
    "y_test_500 = df_500_reduced[\"vmlinux\"]"
   ]
  },
  {
   "cell_type": "code",
   "execution_count": 15,
   "metadata": {},
   "outputs": [
    {
     "name": "stdout",
     "output_type": "stream",
     "text": [
      "MAPE for 5.0 :  21.92124185506205\n"
     ]
    }
   ],
   "source": [
    "y_pred = reg.predict(X_test_500)\n",
    "\n",
    "dfErrorsFold = pd.DataFrame({\"% error\":((y_pred - y_test_500)/y_test_500).abs()*100})\n",
    "error_500 = dfErrorsFold[\"% error\"].mean()\n",
    "print(\"MAPE for 5.0 : \", error_500)"
   ]
  },
  {
   "cell_type": "markdown",
   "metadata": {},
   "source": [
    "### 5.07"
   ]
  },
  {
   "cell_type": "code",
   "execution_count": 16,
   "metadata": {},
   "outputs": [
    {
     "name": "stdout",
     "output_type": "stream",
     "text": [
      "Number of features in 4.13 dataset :  9488\n",
      "Number of features in 5.07 dataset :  11358\n",
      "Number of features common to both datasets :  8773\n",
      "Number of features that disappear in 5.07 :  715\n",
      "Number of features that appear in 5.07 :  2585\n"
     ]
    }
   ],
   "source": [
    "df_507 = pd.read_pickle(\"datasets/dataset_507.pkl\")\n",
    "\n",
    "columns_507 = set(df_507.columns.values)\n",
    "\n",
    "print(\"Number of features in 4.13 dataset : \", len(columns_413))\n",
    "print(\"Number of features in 5.07 dataset : \", len(columns_507))\n",
    "print(\"Number of features common to both datasets : \", len(columns_413.intersection(columns_507)))\n",
    "\n",
    "print(\"Number of features that disappear in 5.07 : \", len(columns_413.difference(columns_507)))\n",
    "print(\"Number of features that appear in 5.07 : \", len(columns_507.difference(columns_413)))"
   ]
  },
  {
   "cell_type": "code",
   "execution_count": 17,
   "metadata": {},
   "outputs": [],
   "source": [
    "df_507_reduced = df_507[columns_413.intersection(columns_507)]\n",
    "\n",
    "for c in columns_413.difference(columns_507):\n",
    "    df_507_reduced = df_507_reduced.assign(**{c:1})\n",
    "    \n",
    "df_507_reduced = df_507_reduced[df_413.columns]\n",
    "\n",
    "X_test_507 = df_507_reduced.drop(columns=size_columns+[\"cid\"], errors=\"ignore\")\n",
    "y_test_507 = df_507_reduced[\"vmlinux\"]"
   ]
  },
  {
   "cell_type": "code",
   "execution_count": 18,
   "metadata": {},
   "outputs": [
    {
     "name": "stdout",
     "output_type": "stream",
     "text": [
      "MAPE for 5.07 :  32.34826179272396\n"
     ]
    }
   ],
   "source": [
    "y_pred = reg.predict(X_test_507)\n",
    "\n",
    "dfErrorsFold = pd.DataFrame({\"% error\":((y_pred - y_test_507)/y_test_507).abs()*100})\n",
    "error_507 = dfErrorsFold[\"% error\"].mean()\n",
    "print(\"MAPE for 5.07 : \", error_507)"
   ]
  },
  {
   "cell_type": "markdown",
   "metadata": {},
   "source": [
    "## Plotting the results"
   ]
  },
  {
   "cell_type": "code",
   "execution_count": 51,
   "metadata": {},
   "outputs": [],
   "source": [
    "s = pd.Series([error_413, error_415, error_420, error_500, error_507], index = [\"4.13\", \"4.15\", \"4.20\", \"5.0\", \"5.07\"])"
   ]
  },
  {
   "cell_type": "code",
   "execution_count": 52,
   "metadata": {},
   "outputs": [
    {
     "data": {
      "text/plain": [
       "Text(3.85, 34.34826179272396, '32.35%')"
      ]
     },
     "execution_count": 52,
     "metadata": {},
     "output_type": "execute_result"
    },
    {
     "data": {
      "image/png": "[encoded data removed]",
      "text/plain": [
       "<Figure size 864x576 with 1 Axes>"
      ]
     },
     "metadata": {
      "needs_background": "light"
     },
     "output_type": "display_data"
    }
   ],
   "source": [
    "ax = s.plot(figsize=(12,8), ylim=(0, 70))\n",
    "\n",
    "ax.set_ylabel(\"MAPE (error percentage)\")\n",
    "ax.set_xlabel(\"Linux Kernel Version\")\n",
    "ax.set_title(\"Error variation on different versions for model trained on 4.13\")\n",
    "\n",
    "ax.text(0, error_413-2, \"{:.2f}%\".format(error_413), fontsize=12)\n",
    "ax.text(1, error_415-2, \"{:.2f}%\".format(error_415), fontsize=12)\n",
    "ax.text(1.9, error_420+2, \"{:.2f}%\".format(error_420), fontsize=12)\n",
    "ax.text(2.9, error_500-3, \"{:.2f}%\".format(error_500), fontsize=12)\n",
    "ax.text(3.85, error_507+2, \"{:.2f}%\".format(error_507), fontsize=12)"
   ]
  },
  {
   "cell_type": "markdown",
   "metadata": {},
   "source": [
    "## Exporting the model"
   ]
  },
  {
   "cell_type": "code",
   "execution_count": 42,
   "metadata": {},
   "outputs": [
    {
     "data": {
      "text/plain": [
       "['gbt_413.joblib']"
      ]
     },
     "execution_count": 42,
     "metadata": {},
     "output_type": "execute_result"
    }
   ],
   "source": [
    "from joblib import dump\n",
    "dump(reg, 'gbt_413.joblib')"
   ]
  },
  {
   "cell_type": "code",
   "execution_count": 47,
   "metadata": {},
   "outputs": [],
   "source": [
    "import json\n",
    "with open(\"gbt_413_columns.json\",\"w\") as f:\n",
    "    json.dump(list(X_train.columns), f)"
   ]
  },
  {
   "cell_type": "code",
   "execution_count": null,
   "metadata": {},
   "outputs": [],
   "source": []
  }
 ],
 "metadata": {
  "kernelspec": {
   "display_name": "Python 3.8",
   "language": "python",
   "name": "python38"
  },
  "language_info": {
   "codemirror_mode": {
    "name": "ipython",
    "version": 3
   },
   "file_extension": ".py",
   "mimetype": "text/x-python",
   "name": "python",
   "nbconvert_exporter": "python",
   "pygments_lexer": "ipython3",
   "version": "3.8.2"
  }
 },
 "nbformat": 4,
 "nbformat_minor": 4
}
