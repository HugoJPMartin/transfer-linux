{
 "cells": [
  {
   "cell_type": "markdown",
   "metadata": {},
   "source": [
    "# Linux Transfer Learning notebook - Dataset Inspection"
   ]
  },
  {
   "cell_type": "markdown",
   "metadata": {},
   "source": [
    "The goal of this notebook is to simply see how much the options are represented in datasets."
   ]
  },
  {
   "cell_type": "code",
   "execution_count": 1,
   "metadata": {},
   "outputs": [],
   "source": [
    "import pandas as pd\n",
    "df_413 = pd.read_pickle(\"datasets/dataset_413.pkl\")\n",
    "df_415 = pd.read_pickle(\"datasets/dataset_415.pkl\")"
   ]
  },
  {
   "cell_type": "code",
   "execution_count": 2,
   "metadata": {},
   "outputs": [],
   "source": [
    "size_columns = [\"GZIP-bzImage\", \"GZIP-vmlinux\", \"GZIP\", \"BZIP2-bzImage\", \"vmlinux\", \n",
    "              \"BZIP2-vmlinux\", \"BZIP2\", \"LZMA-bzImage\", \"LZMA-vmlinux\", \"LZMA\", \"XZ-bzImage\", \"XZ-vmlinux\", \"XZ\", \n",
    "              \"LZO-bzImage\", \"LZO-vmlinux\", \"LZO\", \"LZ4-bzImage\", \"LZ4-vmlinux\", \"LZ4\"]"
   ]
  },
  {
   "cell_type": "markdown",
   "metadata": {},
   "source": [
    "## Dataset 4.13"
   ]
  },
  {
   "cell_type": "markdown",
   "metadata": {},
   "source": [
    "Computing the mean value of each columns. As each options is encoded as either 0 or 1, the mean value represents the share of examples when the options is activated."
   ]
  },
  {
   "cell_type": "code",
   "execution_count": 5,
   "metadata": {},
   "outputs": [],
   "source": [
    "column_mean = {}\n",
    "\n",
    "for c in df_413.drop(columns=size_columns+[\"cid\",\"active_options\"], errors=\"ignore\").columns.values:\n",
    "    column_mean[c] = df_413[c].mean()"
   ]
  },
  {
   "cell_type": "code",
   "execution_count": 6,
   "metadata": {},
   "outputs": [
    {
     "data": {
      "text/plain": [
       "count    9467.000000\n",
       "mean        0.177239\n",
       "std         0.191308\n",
       "min         0.000011\n",
       "25%         0.039725\n",
       "50%         0.117100\n",
       "75%         0.247213\n",
       "max         0.999989\n",
       "dtype: float64"
      ]
     },
     "execution_count": 6,
     "metadata": {},
     "output_type": "execute_result"
    }
   ],
   "source": [
    "s = pd.Series(column_mean)\n",
    "s.describe()"
   ]
  },
  {
   "cell_type": "markdown",
   "metadata": {},
   "source": [
    "Note than as options with only one value represented are removed from the dataset, the \"max\" value can not be 1."
   ]
  },
  {
   "cell_type": "code",
   "execution_count": 10,
   "metadata": {},
   "outputs": [
    {
     "name": "stdout",
     "output_type": "stream",
     "text": [
      "More than 99% : 92 - 0.97%\n",
      "Between 90% and 99% : 40 - 0.42%\n",
      "Between 10% and 90% : 4991 - 52.72%\n",
      "Between 1% and 10% : 3660 - 38.66%\n",
      "Less than 1% : 684 - 0.07%\n"
     ]
    }
   ],
   "source": [
    "print(\"More than 99% : {} - {:.2f}%\".format( len(s[(s>0.99) ]), len(s[(s>0.99) ])/len(s) * 100 ) )\n",
    "print(\"Between 90% and 99% : {} - {:.2f}%\".format(  len(s[((s>0.9) & (s<=0.99))]), len(s[((s>0.9) & (s<=0.99))])/len(s) * 100 ))\n",
    "print(\"Between 10% and 90% : {} - {:.2f}%\".format(  len(s[((s>=0.1) & (s<=0.9))]), len(s[((s>=0.1) & (s<=0.9))])/len(s) * 100 ))\n",
    "print(\"Between 1% and 10% : {} - {:.2f}%\".format(  len(s[((s>=0.01) & (s<0.1))]), len(s[((s>=0.01) & (s<0.1))])/len(s) * 100 ))\n",
    "print(\"Less than 1% : {} - {:.2f}%\".format(  len(s[(s<0.01) ]),  len(s[(s<0.01) ])/len(s) ))"
   ]
  },
  {
   "cell_type": "markdown",
   "metadata": {},
   "source": [
    "More than half the options have value at 0 and 1 in at least 10% of the examples."
   ]
  },
  {
   "cell_type": "code",
   "execution_count": 9,
   "metadata": {},
   "outputs": [
    {
     "data": {
      "text/plain": [
       "Text(4500, -0.02, '684')"
      ]
     },
     "execution_count": 9,
     "metadata": {},
     "output_type": "execute_result"
    },
    {
     "data": {
      "image/png": "[encoded data removed]",
      "text/plain": [
       "<Figure size 864x864 with 1 Axes>"
      ]
     },
     "metadata": {
      "needs_background": "light"
     },
     "output_type": "display_data"
    }
   ],
   "source": [
    "ax = s.sort_values().plot(figsize=(12,12))\n",
    "\n",
    "ax.axhline(0.01, color=\"red\", linestyle=\"--\")\n",
    "ax.text(-300,0.02, \"1%\")\n",
    "\n",
    "ax.axhline(0.1, color=\"blue\", linestyle=\"--\")\n",
    "ax.text(-300,0.11, \"10%\")\n",
    "\n",
    "ax.axhline(0.9, color=\"blue\", linestyle=\"--\")\n",
    "ax.text(-300,0.91, \"90%\")\n",
    "\n",
    "ax.axhline(0.99, color=\"red\", linestyle=\"--\")\n",
    "ax.text(-300,1, \"99%\")\n",
    "\n",
    "\n",
    "ax.text(4500, 1.01, len(s[(s>0.99) ]))\n",
    "ax.text(4500, 0.95, len(s[((s>0.9) & (s<=0.99))]))\n",
    "ax.text(4500, 0.5, len(s[((s>=0.1) & (s<=0.9))]))\n",
    "ax.text(4500, 0.05, len(s[((s>=0.01) & (s<0.1))]))\n",
    "ax.text(4500, -0.02, len(s[(s<0.01) ]))\n"
   ]
  },
  {
   "cell_type": "markdown",
   "metadata": {},
   "source": [
    "### Feature Ranking List"
   ]
  },
  {
   "cell_type": "code",
   "execution_count": 26,
   "metadata": {},
   "outputs": [],
   "source": [
    "import json\n",
    "with open(\"feature_ranking_list.json\",\"r\") as f:\n",
    "    feature_ranking_list = json.load(f)"
   ]
  },
  {
   "cell_type": "code",
   "execution_count": 16,
   "metadata": {},
   "outputs": [
    {
     "data": {
      "text/plain": [
       "count    299.000000\n",
       "mean       0.195813\n",
       "std        0.166082\n",
       "min        0.000011\n",
       "25%        0.058663\n",
       "50%        0.152417\n",
       "75%        0.292350\n",
       "max        0.744841\n",
       "dtype: float64"
      ]
     },
     "execution_count": 16,
     "metadata": {},
     "output_type": "execute_result"
    }
   ],
   "source": [
    "column_mean = {}\n",
    "\n",
    "for c in df_413[feature_ranking_list[:300]].drop(columns=[\"active_options\"]).columns.values:\n",
    "    column_mean[c] = df_413[c].mean()\n",
    "s = pd.Series(column_mean)\n",
    "s.describe()"
   ]
  },
  {
   "cell_type": "code",
   "execution_count": 17,
   "metadata": {},
   "outputs": [
    {
     "name": "stdout",
     "output_type": "stream",
     "text": [
      "More than 99% : 0 - 0.00%\n",
      "Between 90% and 99% : 0 - 0.00%\n",
      "Between 10% and 90% : 186 - 62.21%\n",
      "Between 1% and 10% : 89 - 29.77%\n",
      "Less than 1% : 24 - 0.08%\n"
     ]
    }
   ],
   "source": [
    "print(\"More than 99% : {} - {:.2f}%\".format( len(s[(s>0.99) ]), len(s[(s>0.99) ])/len(s) * 100 ) )\n",
    "print(\"Between 90% and 99% : {} - {:.2f}%\".format(  len(s[((s>0.9) & (s<=0.99))]), len(s[((s>0.9) & (s<=0.99))])/len(s) * 100 ))\n",
    "print(\"Between 10% and 90% : {} - {:.2f}%\".format(  len(s[((s>=0.1) & (s<=0.9))]), len(s[((s>=0.1) & (s<=0.9))])/len(s) * 100 ))\n",
    "print(\"Between 1% and 10% : {} - {:.2f}%\".format(  len(s[((s>=0.01) & (s<0.1))]), len(s[((s>=0.01) & (s<0.1))])/len(s) * 100 ))\n",
    "print(\"Less than 1% : {} - {:.2f}%\".format(  len(s[(s<0.01) ]),  len(s[(s<0.01) ])/len(s) ))"
   ]
  },
  {
   "cell_type": "markdown",
   "metadata": {},
   "source": [
    "The most important features, according to the Random Forests evaluating them, tend to be the one with a better balance in values represented."
   ]
  },
  {
   "cell_type": "code",
   "execution_count": 27,
   "metadata": {},
   "outputs": [
    {
     "data": {
      "text/plain": [
       "count    1499.000000\n",
       "mean        0.231524\n",
       "std         0.172109\n",
       "min         0.000011\n",
       "25%         0.089475\n",
       "50%         0.202826\n",
       "75%         0.350219\n",
       "max         0.921382\n",
       "dtype: float64"
      ]
     },
     "execution_count": 27,
     "metadata": {},
     "output_type": "execute_result"
    }
   ],
   "source": [
    "column_mean = {}\n",
    "\n",
    "for c in df_413[feature_ranking_list[:1500]].drop(columns=[\"active_options\"]).columns.values:\n",
    "    column_mean[c] = df_413[c].mean()\n",
    "s = pd.Series(column_mean)\n",
    "s.describe()"
   ]
  },
  {
   "cell_type": "code",
   "execution_count": 28,
   "metadata": {},
   "outputs": [
    {
     "name": "stdout",
     "output_type": "stream",
     "text": [
      "More than 99% : 0 - 0.00%\n",
      "Between 90% and 99% : 1 - 0.07%\n",
      "Between 10% and 90% : 1085 - 72.38%\n",
      "Between 1% and 10% : 349 - 23.28%\n",
      "Less than 1% : 64 - 0.04%\n"
     ]
    }
   ],
   "source": [
    "print(\"More than 99% : {} - {:.2f}%\".format( len(s[(s>0.99) ]), len(s[(s>0.99) ])/len(s) * 100 ) )\n",
    "print(\"Between 90% and 99% : {} - {:.2f}%\".format(  len(s[((s>0.9) & (s<=0.99))]), len(s[((s>0.9) & (s<=0.99))])/len(s) * 100 ))\n",
    "print(\"Between 10% and 90% : {} - {:.2f}%\".format(  len(s[((s>=0.1) & (s<=0.9))]), len(s[((s>=0.1) & (s<=0.9))])/len(s) * 100 ))\n",
    "print(\"Between 1% and 10% : {} - {:.2f}%\".format(  len(s[((s>=0.01) & (s<0.1))]), len(s[((s>=0.01) & (s<0.1))])/len(s) * 100 ))\n",
    "print(\"Less than 1% : {} - {:.2f}%\".format(  len(s[(s<0.01) ]),  len(s[(s<0.01) ])/len(s) ))"
   ]
  },
  {
   "cell_type": "markdown",
   "metadata": {},
   "source": [
    "Even with 1500 features, we can see the same bias, it's even more important."
   ]
  },
  {
   "cell_type": "markdown",
   "metadata": {},
   "source": [
    "## Dataset 4.15"
   ]
  },
  {
   "cell_type": "code",
   "execution_count": 21,
   "metadata": {},
   "outputs": [],
   "source": [
    "column_mean = {}\n",
    "\n",
    "for c in df_415.drop(columns=size_columns+[\"cid\",\"active_options\"], errors=\"ignore\").columns.values:\n",
    "    column_mean[c] = df_415[c].mean()"
   ]
  },
  {
   "cell_type": "code",
   "execution_count": 22,
   "metadata": {},
   "outputs": [
    {
     "data": {
      "text/plain": [
       "count    9424.000000\n",
       "mean        0.179372\n",
       "std         0.182579\n",
       "min         0.000127\n",
       "25%         0.048812\n",
       "50%         0.121551\n",
       "75%         0.247906\n",
       "max         0.999695\n",
       "dtype: float64"
      ]
     },
     "execution_count": 22,
     "metadata": {},
     "output_type": "execute_result"
    }
   ],
   "source": [
    "s = pd.Series(column_mean)\n",
    "s.describe()"
   ]
  },
  {
   "cell_type": "code",
   "execution_count": 23,
   "metadata": {},
   "outputs": [
    {
     "name": "stdout",
     "output_type": "stream",
     "text": [
      "More than 99% : 50 - 0.53%\n",
      "Between 90% and 99% : 33 - 0.35%\n",
      "Between 10% and 90% : 5229 - 55.49%\n",
      "Between 1% and 10% : 3696 - 39.22%\n",
      "Less than 1% : 416 - 0.04%\n"
     ]
    }
   ],
   "source": [
    "print(\"More than 99% : {} - {:.2f}%\".format( len(s[(s>0.99) ]), len(s[(s>0.99) ])/len(s) * 100 ) )\n",
    "print(\"Between 90% and 99% : {} - {:.2f}%\".format(  len(s[((s>0.9) & (s<=0.99))]), len(s[((s>0.9) & (s<=0.99))])/len(s) * 100 ))\n",
    "print(\"Between 10% and 90% : {} - {:.2f}%\".format(  len(s[((s>=0.1) & (s<=0.9))]), len(s[((s>=0.1) & (s<=0.9))])/len(s) * 100 ))\n",
    "print(\"Between 1% and 10% : {} - {:.2f}%\".format(  len(s[((s>=0.01) & (s<0.1))]), len(s[((s>=0.01) & (s<0.1))])/len(s) * 100 ))\n",
    "print(\"Less than 1% : {} - {:.2f}%\".format(  len(s[(s<0.01) ]),  len(s[(s<0.01) ])/len(s) ))"
   ]
  },
  {
   "cell_type": "markdown",
   "metadata": {},
   "source": [
    "We can observe almost the same distribution as for 4.13 dataset."
   ]
  },
  {
   "cell_type": "code",
   "execution_count": 24,
   "metadata": {},
   "outputs": [
    {
     "data": {
      "text/plain": [
       "Text(4500, -0.02, '416')"
      ]
     },
     "execution_count": 24,
     "metadata": {},
     "output_type": "execute_result"
    },
    {
     "data": {
      "image/png": "[encoded data removed]",
      "text/plain": [
       "<Figure size 864x864 with 1 Axes>"
      ]
     },
     "metadata": {
      "needs_background": "light"
     },
     "output_type": "display_data"
    }
   ],
   "source": [
    "ax = s.sort_values().plot(figsize=(12,12))\n",
    "\n",
    "ax.axhline(0.01, color=\"red\", linestyle=\"--\")\n",
    "ax.text(-300,0.02, \"1%\")\n",
    "\n",
    "ax.axhline(0.1, color=\"blue\", linestyle=\"--\")\n",
    "ax.text(-300,0.11, \"10%\")\n",
    "\n",
    "ax.axhline(0.9, color=\"blue\", linestyle=\"--\")\n",
    "ax.text(-300,0.91, \"90%\")\n",
    "\n",
    "ax.axhline(0.99, color=\"red\", linestyle=\"--\")\n",
    "ax.text(-300,1, \"99%\")\n",
    "\n",
    "\n",
    "ax.text(4500, 1.01, len(s[(s>0.99) ]))\n",
    "ax.text(4500, 0.95, len(s[((s>0.9) & (s<=0.99))]))\n",
    "ax.text(4500, 0.5, len(s[((s>=0.1) & (s<=0.9))]))\n",
    "ax.text(4500, 0.05, len(s[((s>=0.01) & (s<0.1))]))\n",
    "ax.text(4500, -0.02, len(s[(s<0.01) ]))\n"
   ]
  },
  {
   "cell_type": "markdown",
   "metadata": {},
   "source": [
    "### Feature Ranking List"
   ]
  },
  {
   "cell_type": "code",
   "execution_count": 29,
   "metadata": {},
   "outputs": [
    {
     "data": {
      "text/plain": [
       "count    299.000000\n",
       "mean       0.217322\n",
       "std        0.165935\n",
       "min        0.011094\n",
       "25%        0.096075\n",
       "50%        0.159656\n",
       "75%        0.296971\n",
       "max        0.841994\n",
       "dtype: float64"
      ]
     },
     "execution_count": 29,
     "metadata": {},
     "output_type": "execute_result"
    }
   ],
   "source": [
    "import json\n",
    "with open(\"feature_ranking_list_415.json\",\"r\") as f:\n",
    "    feature_ranking_list = json.load(f)\n",
    "    \n",
    "column_mean = {}\n",
    "\n",
    "for c in df_415[feature_ranking_list[:300]].drop(columns=[\"active_options\"]).columns.values:\n",
    "    column_mean[c] = df_415[c].mean()\n",
    "s = pd.Series(column_mean)\n",
    "s.describe()"
   ]
  },
  {
   "cell_type": "code",
   "execution_count": 30,
   "metadata": {},
   "outputs": [
    {
     "name": "stdout",
     "output_type": "stream",
     "text": [
      "More than 99% : 0 - 0.00%\n",
      "Between 90% and 99% : 0 - 0.00%\n",
      "Between 10% and 90% : 221 - 73.91%\n",
      "Between 1% and 10% : 78 - 26.09%\n",
      "Less than 1% : 0 - 0.00%\n"
     ]
    }
   ],
   "source": [
    "print(\"More than 99% : {} - {:.2f}%\".format( len(s[(s>0.99) ]), len(s[(s>0.99) ])/len(s) * 100 ) )\n",
    "print(\"Between 90% and 99% : {} - {:.2f}%\".format(  len(s[((s>0.9) & (s<=0.99))]), len(s[((s>0.9) & (s<=0.99))])/len(s) * 100 ))\n",
    "print(\"Between 10% and 90% : {} - {:.2f}%\".format(  len(s[((s>=0.1) & (s<=0.9))]), len(s[((s>=0.1) & (s<=0.9))])/len(s) * 100 ))\n",
    "print(\"Between 1% and 10% : {} - {:.2f}%\".format(  len(s[((s>=0.01) & (s<0.1))]), len(s[((s>=0.01) & (s<0.1))])/len(s) * 100 ))\n",
    "print(\"Less than 1% : {} - {:.2f}%\".format(  len(s[(s<0.01) ]),  len(s[(s<0.01) ])/len(s) ))"
   ]
  },
  {
   "cell_type": "code",
   "execution_count": 31,
   "metadata": {},
   "outputs": [
    {
     "data": {
      "text/plain": [
       "count    1499.000000\n",
       "mean        0.246713\n",
       "std         0.166596\n",
       "min         0.001549\n",
       "25%         0.110685\n",
       "50%         0.223452\n",
       "75%         0.355500\n",
       "max         0.931126\n",
       "dtype: float64"
      ]
     },
     "execution_count": 31,
     "metadata": {},
     "output_type": "execute_result"
    }
   ],
   "source": [
    "column_mean = {}\n",
    "\n",
    "for c in df_415[feature_ranking_list[:1500]].drop(columns=[\"active_options\"]).columns.values:\n",
    "    column_mean[c] = df_415[c].mean()\n",
    "s = pd.Series(column_mean)\n",
    "s.describe()"
   ]
  },
  {
   "cell_type": "code",
   "execution_count": 32,
   "metadata": {},
   "outputs": [
    {
     "name": "stdout",
     "output_type": "stream",
     "text": [
      "More than 99% : 0 - 0.00%\n",
      "Between 90% and 99% : 1 - 0.07%\n",
      "Between 10% and 90% : 1178 - 78.59%\n",
      "Between 1% and 10% : 316 - 21.08%\n",
      "Less than 1% : 4 - 0.00%\n"
     ]
    }
   ],
   "source": [
    "print(\"More than 99% : {} - {:.2f}%\".format( len(s[(s>0.99) ]), len(s[(s>0.99) ])/len(s) * 100 ) )\n",
    "print(\"Between 90% and 99% : {} - {:.2f}%\".format(  len(s[((s>0.9) & (s<=0.99))]), len(s[((s>0.9) & (s<=0.99))])/len(s) * 100 ))\n",
    "print(\"Between 10% and 90% : {} - {:.2f}%\".format(  len(s[((s>=0.1) & (s<=0.9))]), len(s[((s>=0.1) & (s<=0.9))])/len(s) * 100 ))\n",
    "print(\"Between 1% and 10% : {} - {:.2f}%\".format(  len(s[((s>=0.01) & (s<0.1))]), len(s[((s>=0.01) & (s<0.1))])/len(s) * 100 ))\n",
    "print(\"Less than 1% : {} - {:.2f}%\".format(  len(s[(s<0.01) ]),  len(s[(s<0.01) ])/len(s) ))"
   ]
  },
  {
   "cell_type": "code",
   "execution_count": null,
   "metadata": {},
   "outputs": [],
   "source": []
  }
 ],
 "metadata": {
  "kernelspec": {
   "display_name": "Python 3.8",
   "language": "python",
   "name": "python38"
  },
  "language_info": {
   "codemirror_mode": {
    "name": "ipython",
    "version": 3
   },
   "file_extension": ".py",
   "mimetype": "text/x-python",
   "name": "python",
   "nbconvert_exporter": "python",
   "pygments_lexer": "ipython3",
   "version": "3.8.2"
  }
 },
 "nbformat": 4,
 "nbformat_minor": 4
}
